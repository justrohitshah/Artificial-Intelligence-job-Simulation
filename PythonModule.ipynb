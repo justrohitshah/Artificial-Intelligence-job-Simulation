{
  "nbformat": 4,
  "nbformat_minor": 0,
  "metadata": {
    "colab": {
      "provenance": [],
      "authorship_tag": "ABX9TyO09HgREi7rdhAIMKu4vosw",
      "include_colab_link": true
    },
    "kernelspec": {
      "name": "python3",
      "display_name": "Python 3"
    },
    "language_info": {
      "name": "python"
    }
  },
  "cells": [
    {
      "cell_type": "markdown",
      "metadata": {
        "id": "view-in-github",
        "colab_type": "text"
      },
      "source": [
        "<a href=\"https://colab.research.google.com/github/justrohitshah/Artificial-Intelligence-job-Simulation/blob/main/PythonModule.ipynb\" target=\"_parent\"><img src=\"https://colab.research.google.com/assets/colab-badge.svg\" alt=\"Open In Colab\"/></a>"
      ]
    },
    {
      "cell_type": "code",
      "source": [
        "from google.colab import drive\n",
        "drive.mount(\"/content/drive\")"
      ],
      "metadata": {
        "colab": {
          "base_uri": "https://localhost:8080/"
        },
        "id": "55qGJsoxtG7-",
        "outputId": "1452a43b-bc64-4c94-f1eb-04b5cf707cf3"
      },
      "execution_count": null,
      "outputs": [
        {
          "output_type": "stream",
          "name": "stdout",
          "text": [
            "Mounted at /content/drive\n"
          ]
        }
      ]
    },
    {
      "cell_type": "code",
      "execution_count": null,
      "metadata": {
        "id": "kBm4FctOcLWg"
      },
      "outputs": [],
      "source": [
        "import pandas as pd\n",
        "from sklearn.ensemble import RandomForestRegressor\n",
        "from sklearn.model_selection import train_test_split\n",
        "from sklearn.metrics import mean_absolute_error\n",
        "from sklearn.preprocessing import StandardScaler"
      ]
    },
    {
      "cell_type": "markdown",
      "source": [
        "\n",
        "# Load data"
      ],
      "metadata": {
        "id": "kAFRnSs0cY1I"
      }
    },
    {
      "cell_type": "code",
      "source": [
        "def load_data(path: str = \"/path/to/csv/\"):\n",
        "    \"\"\"\n",
        "    This function takes a path string to a CSV file and loads it into\n",
        "    a Pandas DataFrame.\n",
        "\n",
        "    :param      path (optional): str, relative path of the CSV file\n",
        "\n",
        "    :return     df: pd.DataFrame\n",
        "    \"\"\"\n",
        "\n",
        "    df = pd.read_csv(f\"{path}\")\n",
        "    df.drop(columns=[\"Unnamed: 0\"], inplace=True, errors='ignore')\n",
        "    return df"
      ],
      "metadata": {
        "id": "POKuw2HIccOE"
      },
      "execution_count": null,
      "outputs": []
    },
    {
      "cell_type": "markdown",
      "source": [
        "# Create target variable and predictor variables"
      ],
      "metadata": {
        "id": "OrNoGoUwsuts"
      }
    },
    {
      "cell_type": "code",
      "source": [
        "def create_target_and_predictors(\n",
        "    data: pd.DataFrame = None,\n",
        "    target: str = \"estimated_stock_pct\"\n",
        "):\n",
        "   '''\n",
        "    This function takes in a Pandas DataFrame and splits the columns\n",
        "    into a target column and a set of predictor variables, i.e. X & y.\n",
        "    These two splits of the data will be used to train a supervised\n",
        "    machine learning model.\n",
        "\n",
        "    :param      data: pd.DataFrame, dataframe containing data for the\n",
        "                      model\n",
        "    :param      target: str (optional), target variable that you want to predict\n",
        "\n",
        "    :return     X: pd.DataFrame\n",
        "                y: pd.Series\n",
        "  '''"
      ],
      "metadata": {
        "id": "AfFnGdXYccKn"
      },
      "execution_count": null,
      "outputs": []
    },
    {
      "cell_type": "markdown",
      "source": [
        "   # Check to see if the target variable is present in the data"
      ],
      "metadata": {
        "id": "OYb4cFDksldP"
      }
    },
    {
      "cell_type": "code",
      "source": [
        "    if target not in data.columns:\n",
        "        raise Exception(f\"Target: {target} is not present in the data\")\n",
        "\n",
        "    X = data.drop(columns=[target])\n",
        "    y = data[target]\n",
        "    return X, y"
      ],
      "metadata": {
        "id": "X8DCR2P6kKJg"
      },
      "execution_count": null,
      "outputs": []
    },
    {
      "cell_type": "markdown",
      "source": [
        "# Train algorithm"
      ],
      "metadata": {
        "id": "ia0qTpmWseFZ"
      }
    },
    {
      "cell_type": "code",
      "source": [
        "# Train algorithm\n",
        "def train_algorithm_with_cross_validation(\n",
        "    X: pd.DataFrame = None,\n",
        "    y: pd.Series = None\n",
        "):\n",
        "    \"\"\"\n",
        "    This function takes the predictor and target variables and\n",
        "    trains a Random Forest Regressor model across K folds. Using\n",
        "    cross-validation, performance metrics will be output for each\n",
        "    fold during training.\n",
        "\n",
        "    :param      X: pd.DataFrame, predictor variables\n",
        "    :param      y: pd.Series, target variable\n",
        "\n",
        "    :return\n",
        "    \"\"\""
      ],
      "metadata": {
        "id": "u-bwii6ig1Cg"
      },
      "execution_count": null,
      "outputs": []
    },
    {
      "cell_type": "markdown",
      "source": [
        "# Create a list that will store the accuracies of each fold"
      ],
      "metadata": {
        "id": "CCB1hHnFsa3K"
      }
    },
    {
      "cell_type": "code",
      "source": [
        "    accuracy = []"
      ],
      "metadata": {
        "id": "yrAlEfTFkOLP"
      },
      "execution_count": null,
      "outputs": []
    },
    {
      "cell_type": "markdown",
      "source": [
        "#     Enter a loop to run K folds of cross-validation"
      ],
      "metadata": {
        "id": "GWrPSZBcsSok"
      }
    },
    {
      "cell_type": "code",
      "source": [
        "   for fold in range(0, K):"
      ],
      "metadata": {
        "id": "Pd6kfr7TkSDi"
      },
      "execution_count": null,
      "outputs": []
    },
    {
      "cell_type": "markdown",
      "source": [
        "# Instantiate algorithm and scaler"
      ],
      "metadata": {
        "id": "qrTZRcIasLHd"
      }
    },
    {
      "cell_type": "code",
      "source": [
        "        model = RandomForestRegressor()\n",
        "        scaler = StandardScaler()"
      ],
      "metadata": {
        "id": "yfqs45bqkVF7"
      },
      "execution_count": null,
      "outputs": []
    },
    {
      "cell_type": "markdown",
      "source": [
        " # Create training and test samples"
      ],
      "metadata": {
        "id": "4R4mN0upsJAb"
      }
    },
    {
      "cell_type": "code",
      "source": [
        "        X_train, X_test, y_train, y_test = train_test_split(X, y, train_size=SPLIT, random_state=42)"
      ],
      "metadata": {
        "id": "jPLh3DsukYcY"
      },
      "execution_count": null,
      "outputs": []
    },
    {
      "cell_type": "markdown",
      "source": [
        "# Scale X data, we scale the data because it helps the algorithm to converge and helps the algorithm to not be greedy with large values"
      ],
      "metadata": {
        "id": "Enm0lH3zr5bt"
      }
    },
    {
      "cell_type": "code",
      "source": [
        "        scaler.fit(X_train)\n",
        "        X_train = scaler.transform(X_train)\n",
        "        X_test = scaler.transform(X_test)"
      ],
      "metadata": {
        "id": "P70GbcpVhni3"
      },
      "execution_count": null,
      "outputs": []
    },
    {
      "cell_type": "markdown",
      "source": [
        " # Train model"
      ],
      "metadata": {
        "id": "efqf_MybryCz"
      }
    },
    {
      "cell_type": "code",
      "source": [
        "        trained_model = model.fit(X_train, y_train)"
      ],
      "metadata": {
        "id": "Sn_Uzgzaho11"
      },
      "execution_count": null,
      "outputs": []
    },
    {
      "cell_type": "markdown",
      "source": [
        " # Generate predictions on test sample"
      ],
      "metadata": {
        "id": "tBTz5i6urrjN"
      }
    },
    {
      "cell_type": "code",
      "source": [
        "        y_pred = trained_model.predict(X_test)"
      ],
      "metadata": {
        "id": "MOM7B0jZhtMl"
      },
      "execution_count": null,
      "outputs": []
    },
    {
      "cell_type": "markdown",
      "source": [
        " # Generate predictions on test sample"
      ],
      "metadata": {
        "id": "iaAmMLjvrnAR"
      }
    },
    {
      "cell_type": "code",
      "source": [
        "        y_pred = trained_model.predict(X_test)"
      ],
      "metadata": {
        "id": "0V8E4wZgh1cW"
      },
      "execution_count": null,
      "outputs": []
    },
    {
      "cell_type": "markdown",
      "source": [
        "# Finish by computing the average MAE across all fold"
      ],
      "metadata": {
        "id": "eua7vrurrWkb"
      }
    },
    {
      "cell_type": "code",
      "source": [
        "    print(f\"Average MAE: {(sum(accuracy) / len(accuracy)):.2f}\")"
      ],
      "metadata": {
        "id": "ANtHFGkTh69x"
      },
      "execution_count": null,
      "outputs": []
    }
  ]
}